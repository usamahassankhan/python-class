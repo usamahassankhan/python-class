{
 "cells": [
  {
   "cell_type": "code",
   "execution_count": 13,
   "metadata": {},
   "outputs": [
    {
     "name": "stdout",
     "output_type": "stream",
     "text": [
      "how many numbers u wana enter2\n",
      "usama\n",
      "khan\n",
      "do u wana deleteyes\n",
      "how many name u wana delete1\n",
      "['usama']\n"
     ]
    }
   ],
   "source": [
    "l=[]\n",
    "a=int(input(\"how many numbers u wana enter\"))\n",
    "for i in range(0,a):\n",
    "    b=input(\"\")\n",
    "    l.append(b)\n",
    "remarks=input(\"do u wana delete   :\")  \n",
    "b=int(input(\"how many name u wana delete\"))\n",
    "for i in range(0,b):\n",
    "    if remarks==\"yes\":\n",
    "        l.pop()\n",
    "    print(l)"
   ]
  },
  {
   "cell_type": "code",
   "execution_count": null,
   "metadata": {},
   "outputs": [],
   "source": []
  },
  {
   "cell_type": "code",
   "execution_count": null,
   "metadata": {},
   "outputs": [],
   "source": []
  }
 ],
 "metadata": {
  "kernelspec": {
   "display_name": "Python 3",
   "language": "python",
   "name": "python3"
  },
  "language_info": {
   "codemirror_mode": {
    "name": "ipython",
    "version": 3
   },
   "file_extension": ".py",
   "mimetype": "text/x-python",
   "name": "python",
   "nbconvert_exporter": "python",
   "pygments_lexer": "ipython3",
   "version": "3.7.3"
  }
 },
 "nbformat": 4,
 "nbformat_minor": 2
}
